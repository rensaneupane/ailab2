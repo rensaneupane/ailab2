{
  "nbformat": 4,
  "nbformat_minor": 0,
  "metadata": {
    "colab": {
      "provenance": [],
      "authorship_tag": "ABX9TyNsFsp2LPb9PoSLQMBJ+/Wj",
      "include_colab_link": true
    },
    "kernelspec": {
      "name": "python3",
      "display_name": "Python 3"
    },
    "language_info": {
      "name": "python"
    }
  },
  "cells": [
    {
      "cell_type": "markdown",
      "metadata": {
        "id": "view-in-github",
        "colab_type": "text"
      },
      "source": [
        "<a href=\"https://colab.research.google.com/github/rensaneupane/ailab2/blob/main/lab1.ipynb\" target=\"_parent\"><img src=\"https://colab.research.google.com/assets/colab-badge.svg\" alt=\"Open In Colab\"/></a>"
      ]
    },
    {
      "cell_type": "code",
      "execution_count": 2,
      "metadata": {
        "colab": {
          "base_uri": "https://localhost:8080/"
        },
        "id": "AYcwIbmvjbvZ",
        "outputId": "4c4ba602-c20d-4833-b7b8-41dda92ff0cc"
      },
      "outputs": [
        {
          "output_type": "stream",
          "name": "stdout",
          "text": [
            "enter lower range:2\n",
            "enter upper range:14\n",
            "2\n",
            "3\n",
            "5\n",
            "7\n",
            "11\n",
            "13\n"
          ]
        }
      ],
      "source": [
        "# Write a program to find prime number with in a range using function.\n",
        "lower=int(input (\"enter lower range:\"))\n",
        "upper=int(input (\"enter upper range:\"))\n",
        "for n in range(lower,upper+1):\n",
        "    if n > 1:\n",
        "       for i in range(2,n):\n",
        "          if (n%i)==0:\n",
        "              break\n",
        "       else:\n",
        "            print(n)\n"
      ]
    },
    {
      "cell_type": "code",
      "source": [
        "#Write a program to check palindrome.\n",
        "value=input(\"enter the value\")\n",
        "reverse=value[::-1]\n",
        "if value==reverse:\n",
        "    print(\"palindrome\")\n",
        "else:\n",
        "    print(\"not palindrome\")\n",
        ""
      ],
      "metadata": {
        "colab": {
          "base_uri": "https://localhost:8080/"
        },
        "id": "NF4Z9-QLjw9-",
        "outputId": "5bb15776-639d-450a-bebb-ab4215982bfd"
      },
      "execution_count": 3,
      "outputs": [
        {
          "output_type": "stream",
          "name": "stdout",
          "text": [
            "enter the valueenter\n",
            "not palindrome\n"
          ]
        }
      ]
    },
    {
      "cell_type": "code",
      "source": [
        "#Write a program to generate the Fibonacci sequence of a given number.\n",
        "nterms = int(input(\"Enter number of terms\"))\n",
        "n1, n2 = 0, 1\n",
        "count=0\n",
        "while count < nterms:\n",
        "    print(n1)\n",
        "    nth = n1 + n2\n",
        "    n1 = n2\n",
        "    n2 = nth\n",
        "    count += 1"
      ],
      "metadata": {
        "colab": {
          "base_uri": "https://localhost:8080/"
        },
        "id": "xXNDu5IckBEk",
        "outputId": "a65066b1-f337-47a9-edb0-9f47b8e2c70f"
      },
      "execution_count": 9,
      "outputs": [
        {
          "output_type": "stream",
          "name": "stdout",
          "text": [
            "How many terms? 10\n",
            "0\n",
            "1\n",
            "1\n",
            "2\n",
            "3\n",
            "5\n",
            "8\n",
            "13\n",
            "21\n",
            "34\n"
          ]
        }
      ]
    },
    {
      "cell_type": "code",
      "source": [
        "#Create a number guessing game. Where you have to generate a random number in between 1 to 100 and user have to prompt a number for guess. if its high or low number let the user know and guide them through the process to guess correct number.\n",
        "import random\n",
        "n = random.randrange(1,100)\n",
        "guess = int(input(\"Enter any number: \"))\n",
        "while n!= guess:\n",
        "    if guess < n:\n",
        "        print(\"Too low\")\n",
        "        guess = int(input(\"Enter number again: \"))\n",
        "    elif guess > n:\n",
        "        print(\"Too high!\")\n",
        "        guess = int(input(\"Enter number again: \"))\n",
        "    else:\n",
        "      break\n",
        "print(\"you guessed it right!!\")"
      ],
      "metadata": {
        "colab": {
          "base_uri": "https://localhost:8080/"
        },
        "id": "ct3My3yFmolV",
        "outputId": "02ecf50e-6305-43f4-ca81-4b6a74fd83be"
      },
      "execution_count": 14,
      "outputs": [
        {
          "output_type": "stream",
          "name": "stdout",
          "text": [
            "Enter any number: 4\n",
            "Too low\n",
            "Enter number again: 67\n",
            "Too high!\n",
            "Enter number again: 32\n",
            "Too low\n",
            "Enter number again: 45\n",
            "Too low\n",
            "Enter number again: 60\n",
            "Too high!\n",
            "Enter number again: 56\n",
            "Too high!\n",
            "Enter number again: 50\n",
            "Too low\n",
            "Enter number again: 52\n",
            "Too low\n",
            "Enter number again: 53\n",
            "you guessed it right!!\n"
          ]
        }
      ]
    }
  ]
}